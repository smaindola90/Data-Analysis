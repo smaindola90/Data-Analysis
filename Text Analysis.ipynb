{
 "cells": [
  {
   "cell_type": "markdown",
   "id": "d3899f0a",
   "metadata": {},
   "source": [
    "<h1> Text Analysis </h4>"
   ]
  },
  {
   "cell_type": "markdown",
   "id": "97ffd75f",
   "metadata": {},
   "source": [
    "You have been recruited by your friend, a linguistics enthusiast, to create a utility tool that can perform analysis on a given piece of text. \n",
    "\n",
    "\n",
    "<ul>\n",
    "    <li> Constructor (__init__) - This method should take the argument <code>text</code>, make it lower case, and remove all punctuation.  Assume only the following punctuation is used: period (.), exclamation mark (!), comma (,) and question mark (?). Assign this newly formatted text to a new attribute called <code>fmtText</code>.\n",
    "    <li> freqAll - This method should create and <strong>return</strong> dictionary of all unique words in the text, along with the number of times they occur in the text. Each key in the dictionary should be the unique word appearing in the text and the associated value should be the number of times it occurs in the text. Create this dictionary from the <code>fmtText</code> attribute.\n",
    "    <li> freqOf - This method should take a word as an argument and <strong>return</strong> the number of occurrences of that word in <code>fmtText</code>.\n",
    "</ul>"
   ]
  },
  {
   "cell_type": "code",
   "execution_count": 1,
   "id": "17c9de3c",
   "metadata": {},
   "outputs": [],
   "source": [
    "class analysedText:\n",
    "    \n",
    "    def __init__ (self, text):\n",
    "        \n",
    "        # To remove the punctuation from <text> and make it lower case.\n",
    "        text = text.replace(\".\",\"\")\n",
    "        text = text.replace(\",\",\"\")\n",
    "        text = text.replace(\"!\",\"\")\n",
    "        text = text.replace(\"?\",\"\")\n",
    "        \n",
    "        text = text.lower()\n",
    "        \n",
    "        # To assign the formatted text to a new attribute called \"fmtText\"\n",
    "        self.fmtText = text\n",
    "\n",
    "    def freqAll(self):    \n",
    "\n",
    "        # To split the text into a list \"listOfWords\" and create a set from that list. \n",
    "        global listOfWords\n",
    "        listOfWords = self.fmtText.split( )\n",
    "        setOfWords = set(listOfWords)\n",
    "        \n",
    "        # To create a dictionary with the unique words in the text as keys and the number of times they occur in the text as values.\n",
    "        dictionaryOfWords = {}\n",
    "        for i in setOfWords:\n",
    "            n = listOfWords.count(i)\n",
    "            dictionaryOfWords[i] = n\n",
    "            \n",
    "        # Return the created dictionary.\n",
    "        return dictionaryOfWords\n",
    "    \n",
    "    def freqOf(self, word):\n",
    "\n",
    "        # Return the number of occurrences of <word> in <fmtText>\n",
    "        return listOfWords.count(word)\n",
    "        "
   ]
  },
  {
   "cell_type": "markdown",
   "id": "a1db9722",
   "metadata": {},
   "source": [
    "You can run the code cell below to test your functions to ensure they are working correctly. First execute the code cell in which you implemented your solution, then execute the code cell to test your implementation."
   ]
  },
  {
   "cell_type": "code",
   "execution_count": 2,
   "id": "baa7c495",
   "metadata": {},
   "outputs": [
    {
     "name": "stdout",
     "output_type": "stream",
     "text": [
      "Constructor: \n",
      "Test Passed\n",
      "freqAll: \n",
      "Test Passed\n",
      "freqOf: \n",
      "Test Passed\n"
     ]
    }
   ],
   "source": [
    "import sys\n",
    "\n",
    "sampleMap = {'eirmod': 1,'sed': 1, 'amet': 2, 'diam': 5, 'consetetur': 1, 'labore': 1, 'tempor': 1, 'dolor': 1, 'magna': 2, 'et': 3, 'nonumy': 1, 'ipsum': 1, 'lorem': 2}\n",
    "\n",
    "def testMsg(passed):\n",
    "    if passed:\n",
    "       return 'Test Passed'\n",
    "    else :\n",
    "       return 'Test Failed'\n",
    "\n",
    "print(\"Constructor: \")\n",
    "try:\n",
    "    samplePassage = analysedText(\"Lorem ipsum dolor! diam amet, consetetur Lorem magna. sed diam nonumy eirmod tempor. diam et labore? et diam magna. et diam amet.\")\n",
    "    print(testMsg(samplePassage.fmtText == \"lorem ipsum dolor diam amet consetetur lorem magna sed diam nonumy eirmod tempor diam et labore et diam magna et diam amet\"))\n",
    "except:\n",
    "    print(\"Error detected. Recheck your function \" )\n",
    "print(\"freqAll: \")\n",
    "try:\n",
    "    wordMap = samplePassage.freqAll()\n",
    "    print(testMsg(wordMap==sampleMap))\n",
    "except:\n",
    "    print(\"Error detected. Recheck your function \" )\n",
    "print(\"freqOf: \")\n",
    "try:\n",
    "    passed = True\n",
    "    for word in sampleMap:\n",
    "        if samplePassage.freqOf(word) != sampleMap[word]:\n",
    "            passed = False\n",
    "            break\n",
    "    print(testMsg(passed))\n",
    "    \n",
    "except:\n",
    "    print(\"Error detected. Recheck your function  \" )\n",
    "    "
   ]
  },
  {
   "cell_type": "code",
   "execution_count": null,
   "id": "660a76c9",
   "metadata": {},
   "outputs": [],
   "source": []
  }
 ],
 "metadata": {
  "kernelspec": {
   "display_name": "Python 3 (ipykernel)",
   "language": "python",
   "name": "python3"
  },
  "language_info": {
   "codemirror_mode": {
    "name": "ipython",
    "version": 3
   },
   "file_extension": ".py",
   "mimetype": "text/x-python",
   "name": "python",
   "nbconvert_exporter": "python",
   "pygments_lexer": "ipython3",
   "version": "3.10.4"
  }
 },
 "nbformat": 4,
 "nbformat_minor": 5
}
